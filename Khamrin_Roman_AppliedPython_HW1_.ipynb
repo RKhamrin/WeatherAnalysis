{
  "nbformat": 4,
  "nbformat_minor": 0,
  "metadata": {
    "colab": {
      "provenance": []
    },
    "kernelspec": {
      "name": "python3",
      "display_name": "Python 3"
    },
    "language_info": {
      "name": "python"
    }
  },
  "cells": [
    {
      "cell_type": "markdown",
      "source": [
        "## ДЗ 1 (ОБЯЗАТЕЛЬНОЕ): Анализ температурных данных и мониторинг текущей температуры через OpenWeatherMap API\n",
        "\n",
        "**Описание задания:**  \n",
        "Вы аналитик в компании, занимающейся изучением климатических изменений и мониторингом температур в разных городах. Вам нужно провести анализ исторических данных о температуре для выявления сезонных закономерностей и аномалий. Также необходимо подключить API OpenWeatherMap для получения текущей температуры в выбранных городах и сравнить её с историческими данными.\n",
        "\n",
        "\n",
        "### Цели задания:\n",
        "1. Провести **анализ временных рядов**, включая:\n",
        "   - Вычисление скользящего среднего и стандартного отклонения для сглаживания температурных колебаний.\n",
        "   - Определение аномалий на основе отклонений температуры от $ \\text{скользящее среднее} \\pm 2\\sigma $.\n",
        "   - Построение долгосрочных трендов изменения температуры.\n",
        "   - Любые дополнительные исследования будут вам в плюс.\n",
        "\n",
        "2. Осуществить **мониторинг текущей температуры**:\n",
        "   - Получить текущую температуру через OpenWeatherMap API.\n",
        "   - Сравнить её с историческим нормальным диапазоном для текущего сезона.\n",
        "\n",
        "3. Разработать **интерактивное приложение**:\n",
        "   - Дать пользователю возможность выбрать город.\n",
        "   - Отобразить результаты анализа температур, включая временные ряды, сезонные профили и аномалии.\n",
        "   - Провести анализ текущей температуры в контексте исторических данных.\n",
        "\n",
        "\n",
        "### Описание данных\n",
        "Исторические данные о температуре содержатся в файле `temperature_data.csv`, включают:\n",
        "  - `city`: Название города.\n",
        "  - `timestamp`: Дата (с шагом в 1 день).\n",
        "  - `temperature`: Среднесуточная температура (в °C).\n",
        "  - `season`: Сезон года (зима, весна, лето, осень).\n",
        "\n",
        "Код для генерации файла вы найдете ниже.\n",
        "\n",
        "### Этапы выполнения\n",
        "\n",
        "1. **Анализ исторических данных**:\n",
        "   - Вычислить **скользящее среднее** температуры с окном в 30 дней для сглаживания краткосрочных колебаний.\n",
        "   - Рассчитать среднюю температуру и стандартное отклонение для каждого сезона в каждом городе.\n",
        "   - Выявить аномалии, где температура выходит за пределы $ \\text{среднее} \\pm 2\\sigma $.\n",
        "   - Попробуйте распараллелить проведение этого анализа. Сравните скорость выполнения анализа с распараллеливанием и без него.\n",
        "\n",
        "2. **Мониторинг текущей температуры**:\n",
        "   - Подключить OpenWeatherMap API для получения текущей температуры города. Для получения API Key (бесплатно) надо зарегистрироваться на сайте. Обратите внимание, что API Key может активироваться только через 2-3 часа, это нормально. Посему получите ключ заранее.\n",
        "   - Получить текущую температуру для выбранного города через OpenWeatherMap API.\n",
        "   - Определить, является ли текущая температура нормальной, исходя из исторических данных для текущего сезона.\n",
        "   - Данные на самом деле не совсем реальные (сюрпрайз). Поэтому на момент эксперимента погода в Берлине, Каире и Дубае была в рамках нормы, а в Пекине и Москве аномальная. Протестируйте свое решение для разных городов.\n",
        "   - Попробуйте для получения текущей температуры использовать синхронные и асинхронные методы. Что здесь лучше использовать?\n",
        "\n",
        "3. **Создание приложения на Streamlit**:\n",
        "   - Добавить интерфейс для загрузки файла с историческими данными.\n",
        "   - Добавить интерфейс для выбора города (из выпадающего списка).\n",
        "   - Добавить форму для ввода API-ключа OpenWeatherMap. Когда он не введен, данные для текущей погоды не показываются. Если ключ некорректный, выведите на экран ошибку (должно приходить `{\"cod\":401, \"message\": \"Invalid API key. Please see https://openweathermap.org/faq#error401 for more info.\"}`).\n",
        "   - Отобразить:\n",
        "     - Описательную статистику по историческим данным для города, можно добавить визуализации.\n",
        "     - Временной ряд температур с выделением аномалий (например, точками другого цвета).\n",
        "     - Сезонные профили с указанием среднего и стандартного отклонения.\n",
        "   - Вывести текущую температуру через API и указать, нормальна ли она для сезона.\n",
        "\n",
        "### Критерии оценивания\n",
        "\n",
        "- Корректное проведение анализа данных – 1 балл.\n",
        "- Исследование распараллеливания анализа – 1 балл.\n",
        "- Корректный поиск аномалий – 1 балл.\n",
        "- Подключение к API и корректность выполнения запроса – 1 балл.\n",
        "- Проведение эксперимента с синхронным и асинхронным способом запроса к API – 1 балл.\n",
        "- Создание интерфейса приложения streamlit в соответствии с описанием – 3 балла.\n",
        "- Корректное отображение графиков и статистик, а также сезонных профилей – 1 балл.\n",
        "- Корректный вывод текущей температуры в выбранном городе и проведение проверки на ее аномальность – 1 балл.\n",
        "- Любая дополнительная функциональность приветствуется и оценивается бонусными баллами (не более 2 в сумме) на усмотрение проверяющего.\n",
        "\n",
        "### Формат сдачи домашнего задания\n",
        "\n",
        "Решение нужно развернуть в Streamlit Cloud (бесплатно)\n",
        "\n",
        "*   Создаем новый репозиторий на GitHub.  \n",
        "*   Загружаем проект.\n",
        "*   Создаем аккаунт в [Streamlit Cloud](https://streamlit.io/cloud).\n",
        "*   Авторизуемся в Streamlit Cloud.\n",
        "*   Создаем новое приложение в Streamlit Cloud и подключаем GitHub-репозиторий.\n",
        "*   Deploy!\n",
        "\n",
        "Сдать в форму необходимо:\n",
        "1. Ссылку на развернутое в Streamlit Cloud приложение.\n",
        "2. Ссылку на код. Все выводы про, например, использование параллельности/асинхронности опишите в комментариях.\n",
        "\n",
        "Не забудьте удалить ключ API и иную чувствительную информацию.\n",
        "\n",
        "### Полезные ссылки\n",
        "*   [Оформление задачи Титаник на Streamlit](https://github.com/evgpat/streamlit_demo)\n",
        "*   [Документация Streamlit](https://docs.streamlit.io/)\n",
        "*   [Блог о Streamlit](https://blog.streamlit.io/)"
      ],
      "metadata": {
        "id": "bVbHQbDDjw9i"
      }
    },
    {
      "cell_type": "code",
      "source": [
        "import pandas as pd\n",
        "import numpy as np\n",
        "\n",
        "# Реальные средние температуры (примерные данные) для городов по сезонам\n",
        "seasonal_temperatures = {\n",
        "    \"New York\": {\"winter\": 0, \"spring\": 10, \"summer\": 25, \"autumn\": 15},\n",
        "    \"London\": {\"winter\": 5, \"spring\": 11, \"summer\": 18, \"autumn\": 12},\n",
        "    \"Paris\": {\"winter\": 4, \"spring\": 12, \"summer\": 20, \"autumn\": 13},\n",
        "    \"Tokyo\": {\"winter\": 6, \"spring\": 15, \"summer\": 27, \"autumn\": 18},\n",
        "    \"Moscow\": {\"winter\": -10, \"spring\": 5, \"summer\": 18, \"autumn\": 8},\n",
        "    \"Sydney\": {\"winter\": 12, \"spring\": 18, \"summer\": 25, \"autumn\": 20},\n",
        "    \"Berlin\": {\"winter\": 0, \"spring\": 10, \"summer\": 20, \"autumn\": 11},\n",
        "    \"Beijing\": {\"winter\": -2, \"spring\": 13, \"summer\": 27, \"autumn\": 16},\n",
        "    \"Rio de Janeiro\": {\"winter\": 20, \"spring\": 25, \"summer\": 30, \"autumn\": 25},\n",
        "    \"Dubai\": {\"winter\": 20, \"spring\": 30, \"summer\": 40, \"autumn\": 30},\n",
        "    \"Los Angeles\": {\"winter\": 15, \"spring\": 18, \"summer\": 25, \"autumn\": 20},\n",
        "    \"Singapore\": {\"winter\": 27, \"spring\": 28, \"summer\": 28, \"autumn\": 27},\n",
        "    \"Mumbai\": {\"winter\": 25, \"spring\": 30, \"summer\": 35, \"autumn\": 30},\n",
        "    \"Cairo\": {\"winter\": 15, \"spring\": 25, \"summer\": 35, \"autumn\": 25},\n",
        "    \"Mexico City\": {\"winter\": 12, \"spring\": 18, \"summer\": 20, \"autumn\": 15},\n",
        "}\n",
        "\n",
        "# Сопоставление месяцев с сезонами\n",
        "month_to_season = {12: \"winter\", 1: \"winter\", 2: \"winter\",\n",
        "                   3: \"spring\", 4: \"spring\", 5: \"spring\",\n",
        "                   6: \"summer\", 7: \"summer\", 8: \"summer\",\n",
        "                   9: \"autumn\", 10: \"autumn\", 11: \"autumn\"}\n",
        "\n",
        "# Генерация данных о температуре\n",
        "def generate_realistic_temperature_data(cities, num_years=10):\n",
        "    dates = pd.date_range(start=\"2010-01-01\", periods=365 * num_years, freq=\"D\")\n",
        "    data = []\n",
        "\n",
        "    for city in cities:\n",
        "        for date in dates:\n",
        "            season = month_to_season[date.month]\n",
        "            mean_temp = seasonal_temperatures[city][season]\n",
        "            # Добавляем случайное отклонение\n",
        "            temperature = np.random.normal(loc=mean_temp, scale=5)\n",
        "            data.append({\"city\": city, \"timestamp\": date, \"temperature\": temperature})\n",
        "\n",
        "    df = pd.DataFrame(data)\n",
        "    df['season'] = df['timestamp'].dt.month.map(lambda x: month_to_season[x])\n",
        "    return df\n",
        "\n",
        "# Генерация данных\n",
        "data = generate_realistic_temperature_data(list(seasonal_temperatures.keys()))\n",
        "data.to_csv('temperature_data.csv', index=False)"
      ],
      "metadata": {
        "id": "SsrwTMhRj6dK"
      },
      "execution_count": 1,
      "outputs": []
    },
    {
      "cell_type": "code",
      "source": [
        "data = pd.read_csv('temperature_data.csv')"
      ],
      "metadata": {
        "id": "_W6sYJA9LB_F"
      },
      "execution_count": 2,
      "outputs": []
    },
    {
      "cell_type": "code",
      "source": [
        "## Функция без распараллеливания\n",
        "def process_chunk_no_parallel(chunk):\n",
        "    chunk['mean_temp_city'] = chunk.groupby(['city'])['temperature'].transform(lambda x: x.rolling(window=30, min_periods=0).median())\n",
        "    chunk['std_temp_city'] = chunk.groupby(['city'])['temperature'].transform(lambda x: x.rolling(window=30, min_periods=0).std())\n",
        "    chunk = chunk.fillna({'std_temp_city': 0})\n",
        "    chunk['anomaly'] = chunk.apply(lambda row: (row.temperature < row.std_temp_city - 2 * row.mean_temp_city) or (row.temperature > row.mean_temp_city + 2 * row.std_temp_city), axis=1)\n",
        "\n",
        "    chunk['mean_temp_season'] = chunk.groupby(['city', 'season'])['temperature'].transform(lambda x: x.rolling(window=30, min_periods=0).median())\n",
        "    chunk['std_temp_season'] = chunk.groupby(['city', 'season'])['temperature'].transform(lambda x: x.rolling(window=30, min_periods=0).std())\n",
        "    chunk = chunk.fillna({'std_temp_season': 0})\n",
        "\n",
        "    chunk['mean_temp'] = chunk.groupby(['city', 'season'])['temperature'].transform('mean')\n",
        "    chunk['std_temp'] = chunk.groupby(['city', 'season'])['temperature'].transform('std')\n",
        "\n",
        "    return chunk\n",
        "\n",
        "## Функция для распараллеливания\n",
        "def process_chunk_parallel(chunk):\n",
        "    chunk['mean_temp_city'] = chunk['temperature'].rolling(window=30, min_periods=0).median()\n",
        "    chunk['std_temp_city'] = chunk['temperature'].rolling(window=30, min_periods=0).std()\n",
        "    chunk = chunk.fillna({'std_temp_city': 0})\n",
        "    chunk['anomaly'] = chunk.apply(lambda row: (row.temperature < row.std_temp_city - 2 * row.mean_temp_city) or (row.temperature > row.mean_temp_city + 2 * row.std_temp_city), axis=1)\n",
        "\n",
        "    chunk['mean_temp_season'] = chunk.groupby(['season'])['temperature'].transform(lambda x: x.rolling(window=30, min_periods=0).median())\n",
        "    chunk['std_temp_season'] = chunk.groupby(['season'])['temperature'].transform(lambda x: x.rolling(window=30, min_periods=0).std())\n",
        "    chunk = chunk.fillna({'std_temp_season': 0})\n",
        "\n",
        "    chunk['mean_temp'] = chunk.groupby(['season'])['temperature'].transform('mean')\n",
        "    chunk['std_temp'] = chunk.groupby(['season'])['temperature'].transform('std')\n",
        "\n",
        "    return chunk"
      ],
      "metadata": {
        "id": "ONvR-du8aL-M"
      },
      "execution_count": 5,
      "outputs": []
    },
    {
      "cell_type": "code",
      "source": [
        "%%time\n",
        "data_no_parallel = process_chunk_no_parallel(data)"
      ],
      "metadata": {
        "colab": {
          "base_uri": "https://localhost:8080/"
        },
        "id": "H_sgNTmNHDPH",
        "outputId": "1278f99d-915a-4ed7-ad42-ddb493f0bbd5"
      },
      "execution_count": 6,
      "outputs": [
        {
          "output_type": "stream",
          "name": "stdout",
          "text": [
            "CPU times: user 2.22 s, sys: 26.6 ms, total: 2.25 s\n",
            "Wall time: 2.28 s\n"
          ]
        }
      ]
    },
    {
      "cell_type": "code",
      "source": [
        "from multiprocessing import Pool\n",
        "\n",
        "def parallel_apply(df, func, n_cores=4):\n",
        "    chunk_size = len(df) // n_cores\n",
        "    chunks = [df[i * chunk_size:(i + 1) * chunk_size] for i in range(n_cores)]\n",
        "\n",
        "    with Pool(n_cores) as pool:\n",
        "        results = pool.map(func, chunks)\n",
        "\n",
        "    return pd.concat(results)"
      ],
      "metadata": {
        "id": "joWglZbySblq"
      },
      "execution_count": 7,
      "outputs": []
    },
    {
      "cell_type": "code",
      "source": [
        "%%time\n",
        "data_parallel = parallel_apply(data, process_chunk_parallel, n_cores=15)"
      ],
      "metadata": {
        "colab": {
          "base_uri": "https://localhost:8080/"
        },
        "id": "S7taR8gMWfIq",
        "outputId": "5af2293c-8324-4437-a7d1-0dcbc7b65fd2"
      },
      "execution_count": 8,
      "outputs": [
        {
          "output_type": "stream",
          "name": "stdout",
          "text": [
            "CPU times: user 268 ms, sys: 143 ms, total: 411 ms\n",
            "Wall time: 3.21 s\n"
          ]
        }
      ]
    },
    {
      "cell_type": "markdown",
      "source": [
        "`Вывод: код с распараллеливанием чуть медленнее, чем без него`"
      ],
      "metadata": {
        "id": "ey0rWbA3K3_V"
      }
    },
    {
      "cell_type": "markdown",
      "source": [
        "## Задание 2"
      ],
      "metadata": {
        "id": "rVpoF5F3eB4I"
      }
    },
    {
      "cell_type": "code",
      "source": [
        "import requests\n",
        "import json\n",
        "import time\n",
        "from tqdm import tqdm"
      ],
      "metadata": {
        "id": "fq5iaueqXfxW"
      },
      "execution_count": 9,
      "outputs": []
    },
    {
      "cell_type": "code",
      "source": [
        "## Функция получения данных города\n",
        "def get_city_params(city, limit, API_KEY):\n",
        "    city_link = f'http://api.openweathermap.org/geo/1.0/direct?q={city}&limit={limit}&appid={API_KEY}'\n",
        "    city_request = requests.get(city_link)\n",
        "    city_result = json.loads(city_request.content)\n",
        "    city_lat, city_lon = city_result[0]['lat'], city_result[0]['lon']\n",
        "    city_time = time.time()\n",
        "\n",
        "    return city_lat, city_lon, city_time"
      ],
      "metadata": {
        "id": "zyPErwzlJQwU"
      },
      "execution_count": 15,
      "outputs": []
    },
    {
      "cell_type": "code",
      "source": [
        "## Функция получения температуры в городе\n",
        "def get_city_temp(city_lat, city_lon, city_time, API_KEY):\n",
        "    temp_link = f'https://api.openweathermap.org/data/2.5/weather?lat={city_lat}&lon={city_lon}&appid={API_KEY}&units=metric'\n",
        "    temp_request = requests.get(temp_link)\n",
        "    temp_result = json.loads(temp_request.content)\n",
        "    city_temp = temp_result['main']['temp']\n",
        "\n",
        "    return city_temp"
      ],
      "metadata": {
        "id": "scrflEU4JQto"
      },
      "execution_count": 23,
      "outputs": []
    },
    {
      "cell_type": "code",
      "source": [
        "city_name = 'Mumbai'\n",
        "cities = data['city'].unique()\n",
        "limit = 1\n",
        "api_key = '67873c86e138d78f41ae64680f982bc3'\n",
        "\n",
        "city_info_link = f\"http://api.openweathermap.org/geo/1.0/direct?q={city_name}&limit=1&appid={api_key}\"\n",
        "response = requests.get(city_info_link)"
      ],
      "metadata": {
        "id": "DU6Yq_XYJdzN"
      },
      "execution_count": 32,
      "outputs": []
    },
    {
      "cell_type": "code",
      "source": [
        "## Получим температуру для выбранного города\n",
        "city_lat, city_lon, city_time = get_city_params(city_name, limit, api_key)\n",
        "city_temp = get_city_temp(city_lat, city_lon, city_time, api_key)\n",
        "city_temp"
      ],
      "metadata": {
        "colab": {
          "base_uri": "https://localhost:8080/"
        },
        "id": "SnTzZX9MJdwg",
        "outputId": "830d20ff-3377-40a4-aaec-907efc88c597"
      },
      "execution_count": 33,
      "outputs": [
        {
          "output_type": "execute_result",
          "data": {
            "text/plain": [
              "28.03"
            ]
          },
          "metadata": {},
          "execution_count": 33
        }
      ]
    },
    {
      "cell_type": "code",
      "source": [
        "city_season_data = data[(data['city'] == 'Mumbai') & (data['season'] == 'winter')].copy()\n",
        "mean_temp_city_season = data['mean_temp_city'].unique()[0]\n",
        "std_temp_city_season = data['std_temp_city'].unique()[0]\n",
        "\n",
        "## Определим аномальность погоды для города\n",
        "min_temp = mean_temp_city_season - 2 * std_temp_city_season\n",
        "max_temp =  mean_temp_city_season + 2 * std_temp_city_season\n",
        "print(min_temp < city_temp < max_temp)"
      ],
      "metadata": {
        "colab": {
          "base_uri": "https://localhost:8080/"
        },
        "id": "oNysuixcJ0is",
        "outputId": "e58877a4-e138-47d7-c547-151163512b69"
      },
      "execution_count": 34,
      "outputs": [
        {
          "output_type": "stream",
          "name": "stdout",
          "text": [
            "False\n"
          ]
        }
      ]
    },
    {
      "cell_type": "code",
      "source": [
        "## Соберем данные о текущей погоде для всех городов из выборки\n",
        "\n",
        "cities_temp = {}\n",
        "for city in tqdm(cities):\n",
        "    city_lat, city_lon, city_time = get_city_params(city, limit, api_key)\n",
        "    city_temp = get_city_temp(city_lat, city_lon, city_time, api_key)\n",
        "\n",
        "    cities_temp[city] = city_temp"
      ],
      "metadata": {
        "colab": {
          "base_uri": "https://localhost:8080/"
        },
        "id": "KDBRvSuJJ0gO",
        "outputId": "f1ca1588-0f5a-4e62-ba68-deadf519d252"
      },
      "execution_count": 37,
      "outputs": [
        {
          "output_type": "stream",
          "name": "stderr",
          "text": [
            "100%|██████████| 15/15 [00:02<00:00,  5.13it/s]\n"
          ]
        }
      ]
    },
    {
      "cell_type": "code",
      "source": [
        "## Словарь температур в городах выглядит так:\n",
        "cities_temp"
      ],
      "metadata": {
        "colab": {
          "base_uri": "https://localhost:8080/"
        },
        "id": "n8FoqnjiJ0d2",
        "outputId": "e1621bbd-f61a-4350-d852-4d881aa6fb69"
      },
      "execution_count": 38,
      "outputs": [
        {
          "output_type": "execute_result",
          "data": {
            "text/plain": [
              "{'New York': 0.64,\n",
              " 'London': 0.52,\n",
              " 'Paris': 2.82,\n",
              " 'Tokyo': 7.14,\n",
              " 'Moscow': 1.29,\n",
              " 'Sydney': 23.46,\n",
              " 'Berlin': 1.77,\n",
              " 'Beijing': 0.94,\n",
              " 'Rio de Janeiro': 23.91,\n",
              " 'Dubai': 26.02,\n",
              " 'Los Angeles': 13.36,\n",
              " 'Singapore': 24.6,\n",
              " 'Mumbai': 28.03,\n",
              " 'Cairo': 20.33,\n",
              " 'Mexico City': 10.5}"
            ]
          },
          "metadata": {},
          "execution_count": 38
        }
      ]
    },
    {
      "cell_type": "code",
      "source": [],
      "metadata": {
        "id": "7eSn_-TWIkGF"
      },
      "execution_count": null,
      "outputs": []
    }
  ]
}